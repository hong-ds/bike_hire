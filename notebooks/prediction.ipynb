{
 "cells": [
  {
   "cell_type": "code",
   "execution_count": 2,
   "id": "31585a4a",
   "metadata": {},
   "outputs": [],
   "source": [
    "import pandas as pd\n",
    "import glob\n",
    "import seaborn as sns\n",
    "import matplotlib.pyplot as plt\n",
    "from matplotlib.ticker import FuncFormatter\n",
    "from matplotlib.dates import DateFormatter\n",
    "import matplotlib as mpl\n",
    "import re\n",
    "import pickle\n",
    "import numpy as np\n",
    "from sklearn.linear_model import LinearRegression, Ridge\n",
    "from sklearn.ensemble import RandomForestRegressor\n",
    "from sklearn.neural_network import MLPRegressor\n",
    "from sklearn.svm import SVR\n",
    "from sklearn.model_selection import TimeSeriesSplit, cross_val_score\n",
    "import sklearn.metrics as metrics\n",
    "from pandas.api.types import CategoricalDtype\n",
    "import xgboost as xgb\n",
    "from skopt import BayesSearchCV\n"
   ]
  },
  {
   "cell_type": "code",
   "execution_count": 63,
   "id": "48b4baf0",
   "metadata": {},
   "outputs": [],
   "source": [
    "BASE_PATH = \"../data\"\n",
    "RAW_DATA_PATH = f\"{BASE_PATH}/raw\"\n",
    "TMP_PATH = f\"{BASE_PATH}/tmp\"\n",
    "FILE_PATTERN = RAW_DATA_PATH + \"/*/OD*\"\n",
    "STATION_PATTERN = RAW_DATA_PATH + \"/*/Stations*\"\n",
    "START_STATION = 6184\n",
    "END_STATION = 6015\n",
    "START_DATE = \"2014-04-15\"\n",
    "END_DATE = \"2017-11-15\"\n",
    "THOUSANDS_SYMBOL = \" (000s)\"\n",
    "USE_CACHE = True\n",
    "NUM_CLUSTER = 12\n",
    "MINIMUM_TRIPS_PAIRWISE = 800\n",
    "FORECAST_START = \"2017-09-04\"\n",
    "FORECAST_END = \"2017-09-10\"\n",
    "ITERATIONS = 1 # 1000\n"
   ]
  },
  {
   "cell_type": "code",
   "execution_count": 4,
   "id": "b70e0378",
   "metadata": {},
   "outputs": [],
   "source": [
    "def load_data(path_pattern: str, parse_dates=False) -> pd.DataFrame:\n",
    "    filepath = [pd.read_csv(name, parse_dates=parse_dates) for name in glob.glob(path_pattern)]\n",
    "    df = pd.concat(filepath)\n",
    "    return df"
   ]
  },
  {
   "cell_type": "code",
   "execution_count": 5,
   "id": "c60c5f38",
   "metadata": {},
   "outputs": [],
   "source": [
    "df = load_data(FILE_PATTERN, parse_dates=[\"start_date\", \"end_date\"])\n",
    "df = df.loc[\n",
    "        (df.start_date >= START_DATE) &\n",
    "        (df.end_date < END_DATE)\n",
    "    ].reset_index(drop=True)"
   ]
  },
  {
   "cell_type": "code",
   "execution_count": 6,
   "id": "435c4240",
   "metadata": {},
   "outputs": [],
   "source": [
    "stations = pd.read_csv(f\"{TMP_PATH}/clean_stations.csv\")\n",
    "cluster = pd.read_csv(f\"{TMP_PATH}/station_cluster.csv\")"
   ]
  },
  {
   "cell_type": "code",
   "execution_count": 7,
   "id": "b1128e8c",
   "metadata": {},
   "outputs": [
    {
     "data": {
      "text/html": [
       "<div>\n",
       "<style scoped>\n",
       "    .dataframe tbody tr th:only-of-type {\n",
       "        vertical-align: middle;\n",
       "    }\n",
       "\n",
       "    .dataframe tbody tr th {\n",
       "        vertical-align: top;\n",
       "    }\n",
       "\n",
       "    .dataframe thead th {\n",
       "        text-align: right;\n",
       "    }\n",
       "</style>\n",
       "<table border=\"1\" class=\"dataframe\">\n",
       "  <thead>\n",
       "    <tr style=\"text-align: right;\">\n",
       "      <th></th>\n",
       "      <th>start_station_code</th>\n",
       "      <th>name</th>\n",
       "      <th>latitude</th>\n",
       "      <th>longitude</th>\n",
       "      <th>cluster</th>\n",
       "    </tr>\n",
       "  </thead>\n",
       "  <tbody>\n",
       "    <tr>\n",
       "      <th>0</th>\n",
       "      <td>6436</td>\n",
       "      <td>Côte St-Antoine / Clarke</td>\n",
       "      <td>45.486452</td>\n",
       "      <td>-73.595234</td>\n",
       "      <td>4</td>\n",
       "    </tr>\n",
       "    <tr>\n",
       "      <th>1</th>\n",
       "      <td>6214</td>\n",
       "      <td>Square St-Louis</td>\n",
       "      <td>45.517350</td>\n",
       "      <td>-73.569060</td>\n",
       "      <td>1</td>\n",
       "    </tr>\n",
       "    <tr>\n",
       "      <th>2</th>\n",
       "      <td>6248</td>\n",
       "      <td>St-Dominique / Rachel</td>\n",
       "      <td>45.518593</td>\n",
       "      <td>-73.581566</td>\n",
       "      <td>1</td>\n",
       "    </tr>\n",
       "    <tr>\n",
       "      <th>3</th>\n",
       "      <td>6149</td>\n",
       "      <td>Chapleau / du Mont-Royal</td>\n",
       "      <td>45.538670</td>\n",
       "      <td>-73.569360</td>\n",
       "      <td>9</td>\n",
       "    </tr>\n",
       "    <tr>\n",
       "      <th>4</th>\n",
       "      <td>6252</td>\n",
       "      <td>Mozart / St-Laurent</td>\n",
       "      <td>45.533180</td>\n",
       "      <td>-73.615440</td>\n",
       "      <td>2</td>\n",
       "    </tr>\n",
       "  </tbody>\n",
       "</table>\n",
       "</div>"
      ],
      "text/plain": [
       "   start_station_code                      name   latitude  longitude  cluster\n",
       "0                6436  Côte St-Antoine / Clarke  45.486452 -73.595234        4\n",
       "1                6214           Square St-Louis  45.517350 -73.569060        1\n",
       "2                6248     St-Dominique / Rachel  45.518593 -73.581566        1\n",
       "3                6149  Chapleau / du Mont-Royal  45.538670 -73.569360        9\n",
       "4                6252       Mozart / St-Laurent  45.533180 -73.615440        2"
      ]
     },
     "execution_count": 7,
     "metadata": {},
     "output_type": "execute_result"
    }
   ],
   "source": [
    "stations = stations.merge(cluster, on=\"code\")\n",
    "stations.rename({\"code\": \"start_station_code\"}, axis=1, inplace=True)\n",
    "stations.head()"
   ]
  },
  {
   "cell_type": "code",
   "execution_count": 8,
   "id": "997657d9",
   "metadata": {},
   "outputs": [],
   "source": [
    "combined_df = df.merge(stations[[\"start_station_code\", \"latitude\", \"longitude\", \"cluster\"]], on=\"start_station_code\", how=\"inner\")"
   ]
  },
  {
   "cell_type": "code",
   "execution_count": 9,
   "id": "400397df",
   "metadata": {},
   "outputs": [
    {
     "data": {
      "text/html": [
       "<div>\n",
       "<style scoped>\n",
       "    .dataframe tbody tr th:only-of-type {\n",
       "        vertical-align: middle;\n",
       "    }\n",
       "\n",
       "    .dataframe tbody tr th {\n",
       "        vertical-align: top;\n",
       "    }\n",
       "\n",
       "    .dataframe thead th {\n",
       "        text-align: right;\n",
       "    }\n",
       "</style>\n",
       "<table border=\"1\" class=\"dataframe\">\n",
       "  <thead>\n",
       "    <tr style=\"text-align: right;\">\n",
       "      <th></th>\n",
       "      <th>start_date</th>\n",
       "      <th>start_station_code</th>\n",
       "      <th>end_date</th>\n",
       "      <th>end_station_code</th>\n",
       "      <th>duration_sec</th>\n",
       "      <th>is_member</th>\n",
       "      <th>latitude</th>\n",
       "      <th>longitude</th>\n",
       "      <th>cluster</th>\n",
       "    </tr>\n",
       "  </thead>\n",
       "  <tbody>\n",
       "    <tr>\n",
       "      <th>0</th>\n",
       "      <td>2014-08-01 00:00:00</td>\n",
       "      <td>6215</td>\n",
       "      <td>2014-08-01 00:11:00</td>\n",
       "      <td>6151</td>\n",
       "      <td>702</td>\n",
       "      <td>0</td>\n",
       "      <td>45.514914</td>\n",
       "      <td>-73.578243</td>\n",
       "      <td>1</td>\n",
       "    </tr>\n",
       "    <tr>\n",
       "      <th>1</th>\n",
       "      <td>2014-08-01 00:03:00</td>\n",
       "      <td>6215</td>\n",
       "      <td>2014-08-01 00:16:00</td>\n",
       "      <td>6152</td>\n",
       "      <td>800</td>\n",
       "      <td>1</td>\n",
       "      <td>45.514914</td>\n",
       "      <td>-73.578243</td>\n",
       "      <td>1</td>\n",
       "    </tr>\n",
       "    <tr>\n",
       "      <th>2</th>\n",
       "      <td>2014-08-01 00:09:00</td>\n",
       "      <td>6215</td>\n",
       "      <td>2014-08-01 00:12:00</td>\n",
       "      <td>6181</td>\n",
       "      <td>178</td>\n",
       "      <td>1</td>\n",
       "      <td>45.514914</td>\n",
       "      <td>-73.578243</td>\n",
       "      <td>1</td>\n",
       "    </tr>\n",
       "    <tr>\n",
       "      <th>3</th>\n",
       "      <td>2014-08-01 06:15:00</td>\n",
       "      <td>6215</td>\n",
       "      <td>2014-08-01 06:19:00</td>\n",
       "      <td>6221</td>\n",
       "      <td>233</td>\n",
       "      <td>1</td>\n",
       "      <td>45.514914</td>\n",
       "      <td>-73.578243</td>\n",
       "      <td>1</td>\n",
       "    </tr>\n",
       "    <tr>\n",
       "      <th>4</th>\n",
       "      <td>2014-08-01 06:49:00</td>\n",
       "      <td>6215</td>\n",
       "      <td>2014-08-01 06:57:00</td>\n",
       "      <td>6065</td>\n",
       "      <td>512</td>\n",
       "      <td>1</td>\n",
       "      <td>45.514914</td>\n",
       "      <td>-73.578243</td>\n",
       "      <td>1</td>\n",
       "    </tr>\n",
       "  </tbody>\n",
       "</table>\n",
       "</div>"
      ],
      "text/plain": [
       "           start_date  start_station_code            end_date  \\\n",
       "0 2014-08-01 00:00:00                6215 2014-08-01 00:11:00   \n",
       "1 2014-08-01 00:03:00                6215 2014-08-01 00:16:00   \n",
       "2 2014-08-01 00:09:00                6215 2014-08-01 00:12:00   \n",
       "3 2014-08-01 06:15:00                6215 2014-08-01 06:19:00   \n",
       "4 2014-08-01 06:49:00                6215 2014-08-01 06:57:00   \n",
       "\n",
       "   end_station_code  duration_sec  is_member   latitude  longitude  cluster  \n",
       "0              6151           702          0  45.514914 -73.578243        1  \n",
       "1              6152           800          1  45.514914 -73.578243        1  \n",
       "2              6181           178          1  45.514914 -73.578243        1  \n",
       "3              6221           233          1  45.514914 -73.578243        1  \n",
       "4              6065           512          1  45.514914 -73.578243        1  "
      ]
     },
     "execution_count": 9,
     "metadata": {},
     "output_type": "execute_result"
    }
   ],
   "source": [
    "combined_df.head()"
   ]
  },
  {
   "cell_type": "code",
   "execution_count": 10,
   "id": "518be1d4",
   "metadata": {},
   "outputs": [
    {
     "data": {
      "text/plain": [
       "(14806753, 9)"
      ]
     },
     "execution_count": 10,
     "metadata": {},
     "output_type": "execute_result"
    }
   ],
   "source": [
    "combined_df.shape"
   ]
  },
  {
   "cell_type": "code",
   "execution_count": 11,
   "id": "550e0263",
   "metadata": {},
   "outputs": [],
   "source": [
    "def regression_results(y_true, y_pred):\n",
    "    # Regression metrics\n",
    "    explained_variance=metrics.explained_variance_score(y_true, y_pred)\n",
    "    mean_absolute_error=metrics.mean_absolute_error(y_true, y_pred) \n",
    "    mse=metrics.mean_squared_error(y_true, y_pred) \n",
    "    mean_squared_log_error=metrics.mean_squared_log_error(y_true, y_pred)\n",
    "    median_absolute_error=metrics.median_absolute_error(y_true, y_pred)\n",
    "    r2=metrics.r2_score(y_true, y_pred)\n",
    "    print('explained_variance: ', round(explained_variance,4))    \n",
    "    print('mean_squared_log_error: ', round(mean_squared_log_error,4))\n",
    "    print('r2: ', round(r2,4))\n",
    "    print('MAE: ', round(mean_absolute_error,4))\n",
    "    print('MSE: ', round(mse,4))\n",
    "    print('RMSE: ', round(np.sqrt(mse),4))"
   ]
  },
  {
   "cell_type": "markdown",
   "id": "eb254c24",
   "metadata": {},
   "source": [
    "# baseline model\n",
    "Create baseline model: train only on the data for station 6184 and 6015. <br>\n",
    "The data is a bit too noisy on one station, but we can still train the model on seasonal features, i.e., year, month, dayofweek etc."
   ]
  },
  {
   "cell_type": "code",
   "execution_count": 12,
   "id": "d0b05777",
   "metadata": {},
   "outputs": [],
   "source": [
    "baseline_df = combined_df.loc[(combined_df.start_station_code == START_STATION) & (combined_df.end_station_code == END_STATION)].copy()"
   ]
  },
  {
   "cell_type": "code",
   "execution_count": 13,
   "id": "3891af30",
   "metadata": {},
   "outputs": [],
   "source": [
    "baseline_df.set_index(\"start_date\", inplace=True)"
   ]
  },
  {
   "cell_type": "code",
   "execution_count": 14,
   "id": "aad77081",
   "metadata": {},
   "outputs": [],
   "source": [
    "baseline_df = baseline_df[[\"is_member\"]].resample(\"D\").count()"
   ]
  },
  {
   "cell_type": "code",
   "execution_count": 15,
   "id": "d2b1ba75",
   "metadata": {},
   "outputs": [],
   "source": [
    "baseline_df = baseline_df.loc[\n",
    "    (baseline_df.index.month.isin([5,6,7,8,9,10]))\n",
    "]"
   ]
  },
  {
   "cell_type": "markdown",
   "id": "2197081e",
   "metadata": {},
   "source": [
    "There is not much autocorrelation betwen lags"
   ]
  },
  {
   "cell_type": "code",
   "execution_count": 16,
   "id": "df69c816",
   "metadata": {},
   "outputs": [
    {
     "data": {
      "image/png": "[encoded data removed]",
      "text/plain": [
       "<Figure size 432x288 with 1 Axes>"
      ]
     },
     "execution_count": 16,
     "metadata": {},
     "output_type": "execute_result"
    },
    {
     "data": {
      "image/png": "[encoded data removed]",
      "text/plain": [
       "<Figure size 432x288 with 1 Axes>"
      ]
     },
     "metadata": {
      "needs_background": "light"
     },
     "output_type": "display_data"
    }
   ],
   "source": [
    "baseline_df.columns = [\"trips\"]\n",
    "from statsmodels.graphics.tsaplots import plot_acf, plot_pacf\n",
    "plot_acf(baseline_df.trips)"
   ]
  },
  {
   "cell_type": "code",
   "execution_count": 17,
   "id": "9d18008b",
   "metadata": {},
   "outputs": [
    {
     "data": {
      "image/png": "[encoded data removed]",
      "text/plain": [
       "<Figure size 432x288 with 1 Axes>"
      ]
     },
     "execution_count": 17,
     "metadata": {},
     "output_type": "execute_result"
    },
    {
     "data": {
      "image/png": "[encoded data removed]",
      "text/plain": [
       "<Figure size 432x288 with 1 Axes>"
      ]
     },
     "metadata": {
      "needs_background": "light"
     },
     "output_type": "display_data"
    }
   ],
   "source": [
    "plot_pacf(baseline_df.trips)"
   ]
  },
  {
   "cell_type": "code",
   "execution_count": 18,
   "id": "b9bf896a",
   "metadata": {},
   "outputs": [],
   "source": [
    "baseline_df.loc[:, \"month\"] = baseline_df.index.month.astype(\"category\")\n",
    "baseline_df.loc[:, \"year\"] = baseline_df.index.year.astype(\"category\")\n",
    "baseline_df.loc[:, \"day_of_week\"] = baseline_df.index.day_of_week.astype(\"category\")\n",
    "baseline_df = baseline_df.dropna()\n",
    "baseline_df = pd.get_dummies(baseline_df)"
   ]
  },
  {
   "cell_type": "code",
   "execution_count": 19,
   "id": "7de20130",
   "metadata": {},
   "outputs": [
    {
     "data": {
      "text/plain": [
       "736"
      ]
     },
     "execution_count": 19,
     "metadata": {},
     "output_type": "execute_result"
    }
   ],
   "source": [
    "len(baseline_df)"
   ]
  },
  {
   "cell_type": "code",
   "execution_count": 20,
   "id": "149f3cb7",
   "metadata": {},
   "outputs": [
    {
     "data": {
      "text/html": [
       "<div>\n",
       "<style scoped>\n",
       "    .dataframe tbody tr th:only-of-type {\n",
       "        vertical-align: middle;\n",
       "    }\n",
       "\n",
       "    .dataframe tbody tr th {\n",
       "        vertical-align: top;\n",
       "    }\n",
       "\n",
       "    .dataframe thead th {\n",
       "        text-align: right;\n",
       "    }\n",
       "</style>\n",
       "<table border=\"1\" class=\"dataframe\">\n",
       "  <thead>\n",
       "    <tr style=\"text-align: right;\">\n",
       "      <th></th>\n",
       "      <th>trips</th>\n",
       "      <th>month_5</th>\n",
       "      <th>month_6</th>\n",
       "      <th>month_7</th>\n",
       "      <th>month_8</th>\n",
       "      <th>month_9</th>\n",
       "      <th>month_10</th>\n",
       "      <th>year_2014</th>\n",
       "      <th>year_2015</th>\n",
       "      <th>year_2016</th>\n",
       "      <th>year_2017</th>\n",
       "      <th>day_of_week_0</th>\n",
       "      <th>day_of_week_1</th>\n",
       "      <th>day_of_week_2</th>\n",
       "      <th>day_of_week_3</th>\n",
       "      <th>day_of_week_4</th>\n",
       "      <th>day_of_week_5</th>\n",
       "      <th>day_of_week_6</th>\n",
       "    </tr>\n",
       "    <tr>\n",
       "      <th>start_date</th>\n",
       "      <th></th>\n",
       "      <th></th>\n",
       "      <th></th>\n",
       "      <th></th>\n",
       "      <th></th>\n",
       "      <th></th>\n",
       "      <th></th>\n",
       "      <th></th>\n",
       "      <th></th>\n",
       "      <th></th>\n",
       "      <th></th>\n",
       "      <th></th>\n",
       "      <th></th>\n",
       "      <th></th>\n",
       "      <th></th>\n",
       "      <th></th>\n",
       "      <th></th>\n",
       "      <th></th>\n",
       "    </tr>\n",
       "  </thead>\n",
       "  <tbody>\n",
       "    <tr>\n",
       "      <th>2014-05-01</th>\n",
       "      <td>2</td>\n",
       "      <td>1</td>\n",
       "      <td>0</td>\n",
       "      <td>0</td>\n",
       "      <td>0</td>\n",
       "      <td>0</td>\n",
       "      <td>0</td>\n",
       "      <td>1</td>\n",
       "      <td>0</td>\n",
       "      <td>0</td>\n",
       "      <td>0</td>\n",
       "      <td>0</td>\n",
       "      <td>0</td>\n",
       "      <td>0</td>\n",
       "      <td>1</td>\n",
       "      <td>0</td>\n",
       "      <td>0</td>\n",
       "      <td>0</td>\n",
       "    </tr>\n",
       "    <tr>\n",
       "      <th>2014-05-02</th>\n",
       "      <td>3</td>\n",
       "      <td>1</td>\n",
       "      <td>0</td>\n",
       "      <td>0</td>\n",
       "      <td>0</td>\n",
       "      <td>0</td>\n",
       "      <td>0</td>\n",
       "      <td>1</td>\n",
       "      <td>0</td>\n",
       "      <td>0</td>\n",
       "      <td>0</td>\n",
       "      <td>0</td>\n",
       "      <td>0</td>\n",
       "      <td>0</td>\n",
       "      <td>0</td>\n",
       "      <td>1</td>\n",
       "      <td>0</td>\n",
       "      <td>0</td>\n",
       "    </tr>\n",
       "    <tr>\n",
       "      <th>2014-05-03</th>\n",
       "      <td>1</td>\n",
       "      <td>1</td>\n",
       "      <td>0</td>\n",
       "      <td>0</td>\n",
       "      <td>0</td>\n",
       "      <td>0</td>\n",
       "      <td>0</td>\n",
       "      <td>1</td>\n",
       "      <td>0</td>\n",
       "      <td>0</td>\n",
       "      <td>0</td>\n",
       "      <td>0</td>\n",
       "      <td>0</td>\n",
       "      <td>0</td>\n",
       "      <td>0</td>\n",
       "      <td>0</td>\n",
       "      <td>1</td>\n",
       "      <td>0</td>\n",
       "    </tr>\n",
       "    <tr>\n",
       "      <th>2014-05-04</th>\n",
       "      <td>2</td>\n",
       "      <td>1</td>\n",
       "      <td>0</td>\n",
       "      <td>0</td>\n",
       "      <td>0</td>\n",
       "      <td>0</td>\n",
       "      <td>0</td>\n",
       "      <td>1</td>\n",
       "      <td>0</td>\n",
       "      <td>0</td>\n",
       "      <td>0</td>\n",
       "      <td>0</td>\n",
       "      <td>0</td>\n",
       "      <td>0</td>\n",
       "      <td>0</td>\n",
       "      <td>0</td>\n",
       "      <td>0</td>\n",
       "      <td>1</td>\n",
       "    </tr>\n",
       "    <tr>\n",
       "      <th>2014-05-05</th>\n",
       "      <td>1</td>\n",
       "      <td>1</td>\n",
       "      <td>0</td>\n",
       "      <td>0</td>\n",
       "      <td>0</td>\n",
       "      <td>0</td>\n",
       "      <td>0</td>\n",
       "      <td>1</td>\n",
       "      <td>0</td>\n",
       "      <td>0</td>\n",
       "      <td>0</td>\n",
       "      <td>1</td>\n",
       "      <td>0</td>\n",
       "      <td>0</td>\n",
       "      <td>0</td>\n",
       "      <td>0</td>\n",
       "      <td>0</td>\n",
       "      <td>0</td>\n",
       "    </tr>\n",
       "  </tbody>\n",
       "</table>\n",
       "</div>"
      ],
      "text/plain": [
       "            trips  month_5  month_6  month_7  month_8  month_9  month_10  \\\n",
       "start_date                                                                 \n",
       "2014-05-01      2        1        0        0        0        0         0   \n",
       "2014-05-02      3        1        0        0        0        0         0   \n",
       "2014-05-03      1        1        0        0        0        0         0   \n",
       "2014-05-04      2        1        0        0        0        0         0   \n",
       "2014-05-05      1        1        0        0        0        0         0   \n",
       "\n",
       "            year_2014  year_2015  year_2016  year_2017  day_of_week_0  \\\n",
       "start_date                                                              \n",
       "2014-05-01          1          0          0          0              0   \n",
       "2014-05-02          1          0          0          0              0   \n",
       "2014-05-03          1          0          0          0              0   \n",
       "2014-05-04          1          0          0          0              0   \n",
       "2014-05-05          1          0          0          0              1   \n",
       "\n",
       "            day_of_week_1  day_of_week_2  day_of_week_3  day_of_week_4  \\\n",
       "start_date                                                               \n",
       "2014-05-01              0              0              1              0   \n",
       "2014-05-02              0              0              0              1   \n",
       "2014-05-03              0              0              0              0   \n",
       "2014-05-04              0              0              0              0   \n",
       "2014-05-05              0              0              0              0   \n",
       "\n",
       "            day_of_week_5  day_of_week_6  \n",
       "start_date                                \n",
       "2014-05-01              0              0  \n",
       "2014-05-02              0              0  \n",
       "2014-05-03              1              0  \n",
       "2014-05-04              0              1  \n",
       "2014-05-05              0              0  "
      ]
     },
     "execution_count": 20,
     "metadata": {},
     "output_type": "execute_result"
    }
   ],
   "source": [
    "baseline_df.head()"
   ]
  },
  {
   "cell_type": "code",
   "execution_count": 21,
   "id": "4c1a2220",
   "metadata": {},
   "outputs": [],
   "source": [
    "X_train = baseline_df.loc[:'2017-08-31'].drop(['trips'], axis = 1)\n",
    "y_train = baseline_df.loc[:'2017-08-31', 'trips']\n",
    "X_test = baseline_df.loc[FORECAST_START:FORECAST_END].drop(['trips'], axis = 1)\n",
    "y_test = baseline_df.loc[FORECAST_START:FORECAST_END, 'trips']"
   ]
  },
  {
   "cell_type": "code",
   "execution_count": null,
   "id": "cfb58805",
   "metadata": {},
   "outputs": [],
   "source": []
  },
  {
   "cell_type": "markdown",
   "id": "c994b79d",
   "metadata": {},
   "source": [
    "Skipping CV for the baseline model"
   ]
  },
  {
   "cell_type": "code",
   "execution_count": 22,
   "id": "ccfe108d",
   "metadata": {},
   "outputs": [
    {
     "name": "stdout",
     "output_type": "stream",
     "text": [
      "explained_variance:  0.0665\n",
      "mean_squared_log_error:  0.6529\n",
      "r2:  -0.0217\n",
      "MAE:  2.0288\n",
      "MSE:  4.9207\n",
      "RMSE:  2.2183\n"
     ]
    }
   ],
   "source": [
    "model = Ridge(alpha=1)\n",
    "model.fit(X_train, y_train)\n",
    "y_true = y_test.values\n",
    "y_pred = model.predict(X_test)\n",
    "regression_results(y_true, y_pred)"
   ]
  },
  {
   "cell_type": "markdown",
   "id": "df869784",
   "metadata": {},
   "source": [
    "# Pipeline Session"
   ]
  },
  {
   "cell_type": "code",
   "execution_count": 78,
   "id": "ac9538cd",
   "metadata": {},
   "outputs": [
    {
     "data": {
      "text/html": [
       "<div>\n",
       "<style scoped>\n",
       "    .dataframe tbody tr th:only-of-type {\n",
       "        vertical-align: middle;\n",
       "    }\n",
       "\n",
       "    .dataframe tbody tr th {\n",
       "        vertical-align: top;\n",
       "    }\n",
       "\n",
       "    .dataframe thead th {\n",
       "        text-align: right;\n",
       "    }\n",
       "</style>\n",
       "<table border=\"1\" class=\"dataframe\">\n",
       "  <thead>\n",
       "    <tr style=\"text-align: right;\">\n",
       "      <th></th>\n",
       "      <th>start_date</th>\n",
       "      <th>start_station_code</th>\n",
       "      <th>end_date</th>\n",
       "      <th>end_station_code</th>\n",
       "      <th>duration_sec</th>\n",
       "      <th>is_member</th>\n",
       "      <th>latitude</th>\n",
       "      <th>longitude</th>\n",
       "      <th>cluster</th>\n",
       "    </tr>\n",
       "  </thead>\n",
       "  <tbody>\n",
       "    <tr>\n",
       "      <th>0</th>\n",
       "      <td>2014-08-01 00:00:00</td>\n",
       "      <td>6215</td>\n",
       "      <td>2014-08-01 00:11:00</td>\n",
       "      <td>6151</td>\n",
       "      <td>702</td>\n",
       "      <td>0</td>\n",
       "      <td>45.514914</td>\n",
       "      <td>-73.578243</td>\n",
       "      <td>1</td>\n",
       "    </tr>\n",
       "    <tr>\n",
       "      <th>1</th>\n",
       "      <td>2014-08-01 00:03:00</td>\n",
       "      <td>6215</td>\n",
       "      <td>2014-08-01 00:16:00</td>\n",
       "      <td>6152</td>\n",
       "      <td>800</td>\n",
       "      <td>1</td>\n",
       "      <td>45.514914</td>\n",
       "      <td>-73.578243</td>\n",
       "      <td>1</td>\n",
       "    </tr>\n",
       "    <tr>\n",
       "      <th>2</th>\n",
       "      <td>2014-08-01 00:09:00</td>\n",
       "      <td>6215</td>\n",
       "      <td>2014-08-01 00:12:00</td>\n",
       "      <td>6181</td>\n",
       "      <td>178</td>\n",
       "      <td>1</td>\n",
       "      <td>45.514914</td>\n",
       "      <td>-73.578243</td>\n",
       "      <td>1</td>\n",
       "    </tr>\n",
       "    <tr>\n",
       "      <th>3</th>\n",
       "      <td>2014-08-01 06:15:00</td>\n",
       "      <td>6215</td>\n",
       "      <td>2014-08-01 06:19:00</td>\n",
       "      <td>6221</td>\n",
       "      <td>233</td>\n",
       "      <td>1</td>\n",
       "      <td>45.514914</td>\n",
       "      <td>-73.578243</td>\n",
       "      <td>1</td>\n",
       "    </tr>\n",
       "    <tr>\n",
       "      <th>4</th>\n",
       "      <td>2014-08-01 06:49:00</td>\n",
       "      <td>6215</td>\n",
       "      <td>2014-08-01 06:57:00</td>\n",
       "      <td>6065</td>\n",
       "      <td>512</td>\n",
       "      <td>1</td>\n",
       "      <td>45.514914</td>\n",
       "      <td>-73.578243</td>\n",
       "      <td>1</td>\n",
       "    </tr>\n",
       "  </tbody>\n",
       "</table>\n",
       "</div>"
      ],
      "text/plain": [
       "           start_date  start_station_code            end_date  \\\n",
       "0 2014-08-01 00:00:00                6215 2014-08-01 00:11:00   \n",
       "1 2014-08-01 00:03:00                6215 2014-08-01 00:16:00   \n",
       "2 2014-08-01 00:09:00                6215 2014-08-01 00:12:00   \n",
       "3 2014-08-01 06:15:00                6215 2014-08-01 06:19:00   \n",
       "4 2014-08-01 06:49:00                6215 2014-08-01 06:57:00   \n",
       "\n",
       "   end_station_code  duration_sec  is_member   latitude  longitude  cluster  \n",
       "0              6151           702          0  45.514914 -73.578243        1  \n",
       "1              6152           800          1  45.514914 -73.578243        1  \n",
       "2              6181           178          1  45.514914 -73.578243        1  \n",
       "3              6221           233          1  45.514914 -73.578243        1  \n",
       "4              6065           512          1  45.514914 -73.578243        1  "
      ]
     },
     "execution_count": 78,
     "metadata": {},
     "output_type": "execute_result"
    }
   ],
   "source": [
    "clean_df = combined_df.copy()\n",
    "clean_df.head()"
   ]
  },
  {
   "cell_type": "markdown",
   "id": "546e5991",
   "metadata": {},
   "source": [
    "**Data Cleaning**: since our training unit should be number of trips between pairwise-stations per day, need to do some basic transform\n"
   ]
  },
  {
   "cell_type": "code",
   "execution_count": 79,
   "id": "4cff7a87",
   "metadata": {},
   "outputs": [],
   "source": [
    "clean_df[\"start_date\"] = clean_df[\"start_date\"].dt.normalize()\n",
    "clean_df.drop([\"end_date\"], axis=1, inplace=True)\n",
    "clean_df = clean_df.groupby([\"start_date\", \"start_station_code\", \"end_station_code\"]).agg(\n",
    "    {\n",
    "        \"duration_sec\": np.mean, \n",
    "        \"is_member\": np.mean, \n",
    "        \"latitude\": max, \n",
    "        \"longitude\": max, \n",
    "        \"cluster\": [max, \"count\"]\n",
    "    }\n",
    ").reset_index()\n",
    "clean_df.columns = [\"start_date\", \"start_station_code\", \"end_station_code\", \"avg_duration\", \"is_member_ratio\", \"latitude\", \"longitude\", \"cluster\", \"num_trips\"]"
   ]
  },
  {
   "cell_type": "code",
   "execution_count": 80,
   "id": "ac7ab217",
   "metadata": {},
   "outputs": [
    {
     "data": {
      "text/html": [
       "<div>\n",
       "<style scoped>\n",
       "    .dataframe tbody tr th:only-of-type {\n",
       "        vertical-align: middle;\n",
       "    }\n",
       "\n",
       "    .dataframe tbody tr th {\n",
       "        vertical-align: top;\n",
       "    }\n",
       "\n",
       "    .dataframe thead th {\n",
       "        text-align: right;\n",
       "    }\n",
       "</style>\n",
       "<table border=\"1\" class=\"dataframe\">\n",
       "  <thead>\n",
       "    <tr style=\"text-align: right;\">\n",
       "      <th></th>\n",
       "      <th>start_date</th>\n",
       "      <th>start_station_code</th>\n",
       "      <th>end_station_code</th>\n",
       "      <th>avg_duration</th>\n",
       "      <th>is_member_ratio</th>\n",
       "      <th>latitude</th>\n",
       "      <th>longitude</th>\n",
       "      <th>cluster</th>\n",
       "      <th>num_trips</th>\n",
       "    </tr>\n",
       "  </thead>\n",
       "  <tbody>\n",
       "    <tr>\n",
       "      <th>0</th>\n",
       "      <td>2014-04-15</td>\n",
       "      <td>5007</td>\n",
       "      <td>5006</td>\n",
       "      <td>796.0</td>\n",
       "      <td>1.0</td>\n",
       "      <td>45.523854</td>\n",
       "      <td>-73.519677</td>\n",
       "      <td>7</td>\n",
       "      <td>1</td>\n",
       "    </tr>\n",
       "    <tr>\n",
       "      <th>1</th>\n",
       "      <td>2014-04-15</td>\n",
       "      <td>6001</td>\n",
       "      <td>6039</td>\n",
       "      <td>223.0</td>\n",
       "      <td>1.0</td>\n",
       "      <td>45.509319</td>\n",
       "      <td>-73.554389</td>\n",
       "      <td>5</td>\n",
       "      <td>1</td>\n",
       "    </tr>\n",
       "    <tr>\n",
       "      <th>2</th>\n",
       "      <td>2014-04-15</td>\n",
       "      <td>6001</td>\n",
       "      <td>6048</td>\n",
       "      <td>786.0</td>\n",
       "      <td>0.0</td>\n",
       "      <td>45.509319</td>\n",
       "      <td>-73.554389</td>\n",
       "      <td>5</td>\n",
       "      <td>1</td>\n",
       "    </tr>\n",
       "    <tr>\n",
       "      <th>3</th>\n",
       "      <td>2014-04-15</td>\n",
       "      <td>6001</td>\n",
       "      <td>6085</td>\n",
       "      <td>1113.0</td>\n",
       "      <td>1.0</td>\n",
       "      <td>45.509319</td>\n",
       "      <td>-73.554389</td>\n",
       "      <td>5</td>\n",
       "      <td>1</td>\n",
       "    </tr>\n",
       "    <tr>\n",
       "      <th>4</th>\n",
       "      <td>2014-04-15</td>\n",
       "      <td>6001</td>\n",
       "      <td>6105</td>\n",
       "      <td>676.0</td>\n",
       "      <td>1.0</td>\n",
       "      <td>45.509319</td>\n",
       "      <td>-73.554389</td>\n",
       "      <td>5</td>\n",
       "      <td>1</td>\n",
       "    </tr>\n",
       "  </tbody>\n",
       "</table>\n",
       "</div>"
      ],
      "text/plain": [
       "  start_date  start_station_code  end_station_code  avg_duration  \\\n",
       "0 2014-04-15                5007              5006         796.0   \n",
       "1 2014-04-15                6001              6039         223.0   \n",
       "2 2014-04-15                6001              6048         786.0   \n",
       "3 2014-04-15                6001              6085        1113.0   \n",
       "4 2014-04-15                6001              6105         676.0   \n",
       "\n",
       "   is_member_ratio   latitude  longitude  cluster  num_trips  \n",
       "0              1.0  45.523854 -73.519677        7          1  \n",
       "1              1.0  45.509319 -73.554389        5          1  \n",
       "2              0.0  45.509319 -73.554389        5          1  \n",
       "3              1.0  45.509319 -73.554389        5          1  \n",
       "4              1.0  45.509319 -73.554389        5          1  "
      ]
     },
     "execution_count": 80,
     "metadata": {},
     "output_type": "execute_result"
    }
   ],
   "source": [
    "clean_df.head()"
   ]
  },
  {
   "cell_type": "code",
   "execution_count": 81,
   "id": "fa8645f3",
   "metadata": {},
   "outputs": [],
   "source": [
    "train = clean_df.loc[clean_df.start_date <= '2017-07-30']\n",
    "test = clean_df.loc[clean_df.start_date > '2017-07-30']\n",
    "forecast = clean_df.loc[\n",
    "    (clean_df.start_date >= FORECAST_START) & \n",
    "    (clean_df.start_date <= FORECAST_END) &\n",
    "    (clean_df.start_station_code == START_STATION) &\n",
    "    (clean_df.end_station_code == END_STATION)\n",
    "]"
   ]
  },
  {
   "cell_type": "code",
   "execution_count": 82,
   "id": "8db08bda",
   "metadata": {},
   "outputs": [
    {
     "data": {
      "text/plain": [
       "((8787873, 9), (1582353, 9), (5, 9))"
      ]
     },
     "execution_count": 82,
     "metadata": {},
     "output_type": "execute_result"
    }
   ],
   "source": [
    "train.shape, test.shape, forecast.shape # tradition split train test, with the forecast set for the requirement"
   ]
  },
  {
   "cell_type": "code",
   "execution_count": 83,
   "id": "c80c089d",
   "metadata": {},
   "outputs": [
    {
     "data": {
      "text/html": [
       "<div>\n",
       "<style scoped>\n",
       "    .dataframe tbody tr th:only-of-type {\n",
       "        vertical-align: middle;\n",
       "    }\n",
       "\n",
       "    .dataframe tbody tr th {\n",
       "        vertical-align: top;\n",
       "    }\n",
       "\n",
       "    .dataframe thead th {\n",
       "        text-align: right;\n",
       "    }\n",
       "</style>\n",
       "<table border=\"1\" class=\"dataframe\">\n",
       "  <thead>\n",
       "    <tr style=\"text-align: right;\">\n",
       "      <th></th>\n",
       "      <th>start_date</th>\n",
       "      <th>start_station_code</th>\n",
       "      <th>end_station_code</th>\n",
       "      <th>avg_duration</th>\n",
       "      <th>is_member_ratio</th>\n",
       "      <th>latitude</th>\n",
       "      <th>longitude</th>\n",
       "      <th>cluster</th>\n",
       "      <th>num_trips</th>\n",
       "    </tr>\n",
       "  </thead>\n",
       "  <tbody>\n",
       "    <tr>\n",
       "      <th>5</th>\n",
       "      <td>2017-09-04</td>\n",
       "      <td>6184.0</td>\n",
       "      <td>6015.0</td>\n",
       "      <td>0.000000</td>\n",
       "      <td>0.0</td>\n",
       "      <td>45.524673</td>\n",
       "      <td>-73.58255</td>\n",
       "      <td>1.0</td>\n",
       "      <td>0.0</td>\n",
       "    </tr>\n",
       "    <tr>\n",
       "      <th>0</th>\n",
       "      <td>2017-09-05</td>\n",
       "      <td>6184.0</td>\n",
       "      <td>6015.0</td>\n",
       "      <td>576.166667</td>\n",
       "      <td>1.0</td>\n",
       "      <td>45.524673</td>\n",
       "      <td>-73.58255</td>\n",
       "      <td>1.0</td>\n",
       "      <td>6.0</td>\n",
       "    </tr>\n",
       "    <tr>\n",
       "      <th>6</th>\n",
       "      <td>2017-09-06</td>\n",
       "      <td>6184.0</td>\n",
       "      <td>6015.0</td>\n",
       "      <td>0.000000</td>\n",
       "      <td>0.0</td>\n",
       "      <td>45.524673</td>\n",
       "      <td>-73.58255</td>\n",
       "      <td>1.0</td>\n",
       "      <td>0.0</td>\n",
       "    </tr>\n",
       "    <tr>\n",
       "      <th>1</th>\n",
       "      <td>2017-09-07</td>\n",
       "      <td>6184.0</td>\n",
       "      <td>6015.0</td>\n",
       "      <td>810.500000</td>\n",
       "      <td>1.0</td>\n",
       "      <td>45.524673</td>\n",
       "      <td>-73.58255</td>\n",
       "      <td>1.0</td>\n",
       "      <td>2.0</td>\n",
       "    </tr>\n",
       "    <tr>\n",
       "      <th>2</th>\n",
       "      <td>2017-09-08</td>\n",
       "      <td>6184.0</td>\n",
       "      <td>6015.0</td>\n",
       "      <td>557.333333</td>\n",
       "      <td>1.0</td>\n",
       "      <td>45.524673</td>\n",
       "      <td>-73.58255</td>\n",
       "      <td>1.0</td>\n",
       "      <td>3.0</td>\n",
       "    </tr>\n",
       "    <tr>\n",
       "      <th>3</th>\n",
       "      <td>2017-09-09</td>\n",
       "      <td>6184.0</td>\n",
       "      <td>6015.0</td>\n",
       "      <td>626.000000</td>\n",
       "      <td>0.6</td>\n",
       "      <td>45.524673</td>\n",
       "      <td>-73.58255</td>\n",
       "      <td>1.0</td>\n",
       "      <td>5.0</td>\n",
       "    </tr>\n",
       "    <tr>\n",
       "      <th>4</th>\n",
       "      <td>2017-09-10</td>\n",
       "      <td>6184.0</td>\n",
       "      <td>6015.0</td>\n",
       "      <td>1374.000000</td>\n",
       "      <td>1.0</td>\n",
       "      <td>45.524673</td>\n",
       "      <td>-73.58255</td>\n",
       "      <td>1.0</td>\n",
       "      <td>1.0</td>\n",
       "    </tr>\n",
       "  </tbody>\n",
       "</table>\n",
       "</div>"
      ],
      "text/plain": [
       "  start_date  start_station_code  end_station_code  avg_duration  \\\n",
       "5 2017-09-04              6184.0            6015.0      0.000000   \n",
       "0 2017-09-05              6184.0            6015.0    576.166667   \n",
       "6 2017-09-06              6184.0            6015.0      0.000000   \n",
       "1 2017-09-07              6184.0            6015.0    810.500000   \n",
       "2 2017-09-08              6184.0            6015.0    557.333333   \n",
       "3 2017-09-09              6184.0            6015.0    626.000000   \n",
       "4 2017-09-10              6184.0            6015.0   1374.000000   \n",
       "\n",
       "   is_member_ratio   latitude  longitude  cluster  num_trips  \n",
       "5              0.0  45.524673  -73.58255      1.0        0.0  \n",
       "0              1.0  45.524673  -73.58255      1.0        6.0  \n",
       "6              0.0  45.524673  -73.58255      1.0        0.0  \n",
       "1              1.0  45.524673  -73.58255      1.0        2.0  \n",
       "2              1.0  45.524673  -73.58255      1.0        3.0  \n",
       "3              0.6  45.524673  -73.58255      1.0        5.0  \n",
       "4              1.0  45.524673  -73.58255      1.0        1.0  "
      ]
     },
     "execution_count": 83,
     "metadata": {},
     "output_type": "execute_result"
    }
   ],
   "source": [
    "prediction_range = pd.date_range(start=FORECAST_START, end=FORECAST_END)\n",
    "missing_prediction = list(set(prediction_range) - set(forecast.start_date))\n",
    "\n",
    "# add back missing prediction\n",
    "forecast = pd.concat([forecast, pd.DataFrame({\n",
    "    \"start_date\":missing_prediction\n",
    "})], axis=0).reset_index(drop=True)\n",
    "forecast[[\"start_station_code\", \"end_station_code\", \"latitude\", \"longitude\", \"cluster\"]] = forecast[[\"start_station_code\", \"end_station_code\", \"latitude\", \"longitude\", \"cluster\"]].fillna(method=\"ffill\")\n",
    "forecast[[\"num_trips\", \"avg_duration\", \"is_member_ratio\"]] = forecast[[\"num_trips\", \"avg_duration\", \"is_member_ratio\"]].fillna(0)\n",
    "forecast.sort_values(\"start_date\", inplace=True)\n",
    "forecast"
   ]
  },
  {
   "cell_type": "markdown",
   "id": "073619f5",
   "metadata": {},
   "source": [
    "**Feature Engineering**\n",
    "<br>\n",
    "Create feature ride frequency per route, dropping low category because the model will prone to predict 0 for those entries, and make the training faster"
   ]
  },
  {
   "cell_type": "code",
   "execution_count": 84,
   "id": "038539ff",
   "metadata": {},
   "outputs": [],
   "source": [
    "trip_labels = [\"low\", \"medium\", \"high\"] # low: average daily ride less than 1, medium: between 1-2, high: > 2\n",
    "trip_numbers = train.groupby([\"start_station_code\", \"end_station_code\"])[\"num_trips\"].sum().reset_index()\n",
    "trip_numbers[\"route_freq\"] = \"low\"\n",
    "trip_numbers.loc[trip_numbers.num_trips > 750, \"route_freq\"] = \"medium\"\n",
    "trip_numbers.loc[trip_numbers.num_trips > 1500, \"route_freq\"] = \"high\"\n",
    "trip_numbers.drop(\"num_trips\", inplace=True, axis=1)\n",
    "trip_numbers = trip_numbers.loc[trip_numbers.route_freq != \"low\"] \n"
   ]
  },
  {
   "cell_type": "markdown",
   "id": "3d43d817",
   "metadata": {},
   "source": [
    "Create feature for the average length of the ride, the purpose is to capture travel behavior, longer might mean leisure ride."
   ]
  },
  {
   "cell_type": "code",
   "execution_count": 85,
   "id": "b7bec2eb",
   "metadata": {},
   "outputs": [],
   "source": [
    "route_length = [\"1\", \"2\", \"3\", \"4\"] #higher the longer\n",
    "trip_length = pd.qcut(train.groupby([\"start_station_code\", \"end_station_code\"])[\"avg_duration\"].mean(), q=4, labels=route_length).reset_index()\n",
    "trip_length.columns = [\"start_station_code\", \"end_station_code\", \"route_length\"]"
   ]
  },
  {
   "cell_type": "code",
   "execution_count": 86,
   "id": "946aa5fd",
   "metadata": {},
   "outputs": [],
   "source": [
    "train = train.merge(trip_numbers, on=[\"start_station_code\", \"end_station_code\"])\n",
    "train = train.merge(trip_length, on=[\"start_station_code\", \"end_station_code\"])\n",
    "\n",
    "test = test.merge(trip_numbers, on=[\"start_station_code\", \"end_station_code\"])\n",
    "test = test.merge(trip_length, on=[\"start_station_code\", \"end_station_code\"])\n",
    "\n",
    "forecast = forecast.merge(trip_numbers, on=[\"start_station_code\", \"end_station_code\"])\n",
    "forecast = forecast.merge(trip_length, on=[\"start_station_code\", \"end_station_code\"])"
   ]
  },
  {
   "cell_type": "markdown",
   "id": "9eab8b16",
   "metadata": {},
   "source": [
    "**Feature Selection**"
   ]
  },
  {
   "cell_type": "code",
   "execution_count": 87,
   "id": "baa84162",
   "metadata": {},
   "outputs": [],
   "source": [
    "def feature_selection(dataframe, is_train=False, categories=None):\n",
    "    \n",
    "    X_train = dataframe[[\"start_date\", \"cluster\", \"route_freq\", \"route_length\"]].copy()\n",
    "    y_train = dataframe[\"num_trips\"]\n",
    "\n",
    "    X_train[\"year\"] = X_train.start_date.dt.year\n",
    "    X_train[\"month\"] = X_train.start_date.dt.month\n",
    "    X_train[\"day_of_week\"] = X_train.start_date.dt.day_of_week\n",
    "    X_train.drop(\"start_date\", axis=1, inplace=True)\n",
    "    \n",
    "    if is_train:\n",
    "        X_train = X_train.astype(\"category\")\n",
    "        categories = {\n",
    "                    col: list(X_train[col].cat.categories)\n",
    "                    for col in X_train.columns\n",
    "                }\n",
    "        X_train_ohe = pd.get_dummies(X_train, drop_first=True)\n",
    "        return X_train_ohe, y_train, categories\n",
    "    \n",
    "    for k, v in categories.items():\n",
    "        X_train[k] = X_train[k].astype(CategoricalDtype(categories=v))    \n",
    "        X_train_ohe = pd.get_dummies(X_train, drop_first=True)\n",
    "    return X_train_ohe, y_train"
   ]
  },
  {
   "cell_type": "code",
   "execution_count": 88,
   "id": "2386db8f",
   "metadata": {},
   "outputs": [],
   "source": [
    "X_train_ohe, y_train, categories = feature_selection(train, is_train=True)\n",
    "X_test_ohe, y_test = feature_selection(test, is_train=False, categories=categories)\n",
    "X_forecast_ohe, y_forecast = feature_selection(forecast, is_train=False, categories=categories)"
   ]
  },
  {
   "cell_type": "code",
   "execution_count": 125,
   "id": "ed087b83",
   "metadata": {},
   "outputs": [
    {
     "name": "stdout",
     "output_type": "stream",
     "text": [
      "explained_variance:  0.236\n",
      "mean_squared_log_error:  0.1983\n",
      "r2:  0.231\n",
      "MAE:  1.4504\n",
      "MSE:  4.8542\n",
      "RMSE:  2.2032\n"
     ]
    }
   ],
   "source": [
    "model = xgb.XGBRegressor(objective ='reg:squarederror', n_estimators = 100)\n",
    "model.fit(X_train_ohe,y_train)\n",
    "y_true = y_test.values\n",
    "y_pred = model.predict(X_test_ohe.values)\n",
    "regression_results(y_true, y_pred)"
   ]
  },
  {
   "cell_type": "code",
   "execution_count": 126,
   "id": "54597159",
   "metadata": {},
   "outputs": [
    {
     "name": "stdout",
     "output_type": "stream",
     "text": [
      "explained_variance:  -0.1886\n",
      "mean_squared_log_error:  0.8831\n",
      "r2:  -0.4684\n",
      "MAE:  2.4672\n",
      "MSE:  7.0722\n",
      "RMSE:  2.6594\n"
     ]
    }
   ],
   "source": [
    "y_true = y_forecast.values\n",
    "y_pred = model.predict(X_forecast_ohe.values)\n",
    "regression_results(y_true, y_pred)"
   ]
  },
  {
   "cell_type": "markdown",
   "id": "0ce185f9",
   "metadata": {},
   "source": [
    "Daily forcast for the required period"
   ]
  },
  {
   "cell_type": "code",
   "execution_count": 127,
   "id": "47d08886",
   "metadata": {},
   "outputs": [
    {
     "data": {
      "text/plain": [
       "(array([3.5146852, 3.8910544, 4.1730537, 4.1082754, 3.918884 , 2.536741 ,\n",
       "        2.9833026], dtype=float32),\n",
       " array([0., 6., 0., 2., 3., 5., 1.]))"
      ]
     },
     "execution_count": 127,
     "metadata": {},
     "output_type": "execute_result"
    }
   ],
   "source": [
    "y_pred, y_true"
   ]
  },
  {
   "cell_type": "markdown",
   "id": "cb867d9c",
   "metadata": {},
   "source": [
    "# Training and CV Pipeline\n",
    "we can add as many as models to the pipeline as we want, need three components, (model name, model object, hyperparamers search space) <br>\n",
    "for illustration purpose, I only set the iteration to 1, for better prediction performance, please select more iterations. "
   ]
  },
  {
   "cell_type": "code",
   "execution_count": 117,
   "id": "969dcd8c",
   "metadata": {},
   "outputs": [],
   "source": [
    "results = []\n",
    "models = []\n",
    "models.append(('LR', Ridge(), {'alpha': (0.01, 1.0, 'uniform')}))\n",
    "models.append(('RF', RandomForestRegressor(), {\n",
    "                            'n_estimators': (50, 100),        \n",
    "                            'min_samples_leaf': (0, 10),\n",
    "                            'min_samples_split': (0, 10),\n",
    "                            'max_depth': (0, 50)})\n",
    "                ) # Ensemble method - collection of many decision trees\n",
    "models.append(('XGB', xgb.XGBRegressor(\n",
    "                            n_jobs = 1,\n",
    "                            objective = 'reg:squarederror',\n",
    "                            eval_metric = 'rmse',\n",
    "                            tree_method='approx'\n",
    "                            ),{\n",
    "                            'learning_rate': (0.01, 1.0, 'log-uniform'),\n",
    "                            'min_child_weight': (0, 10),\n",
    "                            'max_depth': (0, 50),\n",
    "                            'max_delta_step': (0, 20),\n",
    "                            'subsample': (0.01, 1.0, 'uniform'),\n",
    "                            'colsample_bytree': (0.01, 1.0, 'uniform'),\n",
    "                            'colsample_bylevel': (0.01, 1.0, 'uniform'),\n",
    "                            'reg_lambda': (1e-9, 1000, 'log-uniform'),\n",
    "                            'reg_alpha': (1e-9, 1.0, 'log-uniform'),\n",
    "                            'gamma': (1e-9, 0.5, 'log-uniform'),\n",
    "                            'min_child_weight': (0, 5),\n",
    "                            'n_estimators': (50, 100),\n",
    "                            'scale_pos_weight': (1e-6, 500, 'log-uniform')\n",
    "                        }\n",
    "              ))"
   ]
  },
  {
   "cell_type": "code",
   "execution_count": 118,
   "id": "9670f72d",
   "metadata": {},
   "outputs": [
    {
     "name": "stdout",
     "output_type": "stream",
     "text": [
      "LR Ridge() {'alpha': (0.01, 1.0, 'uniform')}\n",
      "Model #1\n",
      "Best rmse: -2.2255\n",
      "Best params: OrderedDict([('alpha', 0.4160029192647807)])\n",
      "\n",
      "RF RandomForestRegressor() {'n_estimators': (50, 100), 'min_samples_leaf': (0, 10), 'min_samples_split': (0, 10), 'max_depth': (0, 50)}\n",
      "Model #1\n",
      "Best rmse: -2.266\n",
      "Best params: OrderedDict([('max_depth', 21), ('min_samples_leaf', 7), ('min_samples_split', 9), ('n_estimators', 66)])\n",
      "\n",
      "XGB XGBRegressor(base_score=None, booster=None, colsample_bylevel=None,\n",
      "             colsample_bynode=None, colsample_bytree=None, eval_metric='rmse',\n",
      "             gamma=None, gpu_id=None, importance_type='gain',\n",
      "             interaction_constraints=None, learning_rate=None,\n",
      "             max_delta_step=None, max_depth=None, min_child_weight=None,\n",
      "             missing=nan, monotone_constraints=None, n_estimators=100, n_jobs=1,\n",
      "             num_parallel_tree=None, random_state=None, reg_alpha=None,\n",
      "             reg_lambda=None, scale_pos_weight=None, subsample=None,\n",
      "             tree_method='approx', validate_parameters=None, verbosity=None) {'learning_rate': (0.01, 1.0, 'log-uniform'), 'min_child_weight': (0, 5), 'max_depth': (0, 50), 'max_delta_step': (0, 20), 'subsample': (0.01, 1.0, 'uniform'), 'colsample_bytree': (0.01, 1.0, 'uniform'), 'colsample_bylevel': (0.01, 1.0, 'uniform'), 'reg_lambda': (1e-09, 1000, 'log-uniform'), 'reg_alpha': (1e-09, 1.0, 'log-uniform'), 'gamma': (1e-09, 0.5, 'log-uniform'), 'n_estimators': (50, 100), 'scale_pos_weight': (1e-06, 500, 'log-uniform')}\n",
      "Model #1\n",
      "Best rmse: -2.8469\n",
      "Best params: OrderedDict([('colsample_bylevel', 0.4160029192647807), ('colsample_bytree', 0.7304484857455519), ('gamma', 0.13031389926541354), ('learning_rate', 0.042815319280763466), ('max_delta_step', 13), ('max_depth', 21), ('min_child_weight', 2), ('n_estimators', 87), ('reg_alpha', 5.497557739289786e-07), ('reg_lambda', 648), ('scale_pos_weight', 275), ('subsample', 0.13556548021189216)])\n",
      "\n"
     ]
    }
   ],
   "source": [
    "def status_print(optim_result):\n",
    "    \"\"\"Status callback durring bayesian hyperparameter search\"\"\"\n",
    "    \n",
    "    all_models = pd.DataFrame(bayes_cv_tuner.cv_results_)    \n",
    "    \n",
    "    # Get current parameters and the best parameters    \n",
    "    best_params = pd.Series(bayes_cv_tuner.best_params_)\n",
    "    print('Model #{}\\nBest rmse: {}\\nBest params: {}\\n'.format(\n",
    "        len(all_models),\n",
    "        np.round(bayes_cv_tuner.best_score_, 4),\n",
    "        bayes_cv_tuner.best_params_\n",
    "    ))\n",
    "    \n",
    "    # Save all model results\n",
    "    clf_name = bayes_cv_tuner.estimator.__class__.__name__\n",
    "    all_models.to_csv(f\"{TMP_PATH}/{clf_name}_cv_results.csv\")\n",
    "\n",
    "\n",
    "for name, model, search in models: \n",
    "    bayes_cv_tuner = BayesSearchCV(\n",
    "        estimator = model,\n",
    "        search_spaces = search,    \n",
    "        scoring = 'neg_root_mean_squared_error',\n",
    "        cv = TimeSeriesSplit(n_splits=3),\n",
    "        n_jobs = 4,\n",
    "        n_iter = ITERATIONS,   \n",
    "        verbose = 0,\n",
    "        refit = True,\n",
    "        random_state = 42\n",
    "    )\n",
    "    result = bayes_cv_tuner.fit(X_train_ohe.values, y_train.values, callback=status_print)\n",
    "    results.append(result)"
   ]
  },
  {
   "cell_type": "code",
   "execution_count": 123,
   "id": "326e98e2",
   "metadata": {},
   "outputs": [
    {
     "name": "stdout",
     "output_type": "stream",
     "text": [
      "explained_variance:  0.1784\n",
      "mean_squared_log_error:  0.2222\n",
      "r2:  0.1769\n",
      "MAE:  1.5515\n",
      "MSE:  5.1961\n",
      "RMSE:  2.2795\n",
      "explained_variance:  0.1784\n",
      "mean_squared_log_error:  0.2222\n",
      "r2:  0.1769\n",
      "MAE:  1.5515\n",
      "MSE:  5.1961\n",
      "RMSE:  2.2795\n",
      "explained_variance:  0.1784\n",
      "mean_squared_log_error:  0.2222\n",
      "r2:  0.1769\n",
      "MAE:  1.5515\n",
      "MSE:  5.1961\n",
      "RMSE:  2.2795\n",
      "explained_variance:  0.1896\n",
      "mean_squared_log_error:  0.2025\n",
      "r2:  0.1532\n",
      "MAE:  1.454\n",
      "MSE:  5.3456\n",
      "RMSE:  2.3121\n",
      "explained_variance:  0.0121\n",
      "mean_squared_log_error:  0.5009\n",
      "r2:  -0.529\n",
      "MAE:  1.852\n",
      "MSE:  9.652\n",
      "RMSE:  3.1068\n"
     ]
    }
   ],
   "source": [
    "for model in results: \n",
    "    y_true = y_test.values\n",
    "    y_pred = model.predict(X_test_ohe.values)\n",
    "    regression_results(y_true, y_pred)"
   ]
  },
  {
   "cell_type": "code",
   "execution_count": 124,
   "id": "89693aa9",
   "metadata": {},
   "outputs": [
    {
     "name": "stdout",
     "output_type": "stream",
     "text": [
      "explained_variance:  -0.0014\n",
      "mean_squared_log_error:  0.9661\n",
      "r2:  -0.6284\n",
      "MAE:  2.5155\n",
      "MSE:  7.8429\n",
      "RMSE:  2.8005\n",
      "explained_variance:  -0.0014\n",
      "mean_squared_log_error:  0.9661\n",
      "r2:  -0.6284\n",
      "MAE:  2.5155\n",
      "MSE:  7.8429\n",
      "RMSE:  2.8005\n",
      "explained_variance:  -0.0014\n",
      "mean_squared_log_error:  0.9661\n",
      "r2:  -0.6284\n",
      "MAE:  2.5155\n",
      "MSE:  7.8429\n",
      "RMSE:  2.8005\n",
      "explained_variance:  -0.0427\n",
      "mean_squared_log_error:  0.6463\n",
      "r2:  -0.0609\n",
      "MAE:  1.9984\n",
      "MSE:  5.1096\n",
      "RMSE:  2.2605\n",
      "explained_variance:  -0.0026\n",
      "mean_squared_log_error:  0.6171\n",
      "r2:  -0.4033\n",
      "MAE:  1.9917\n",
      "MSE:  6.7587\n",
      "RMSE:  2.5998\n"
     ]
    }
   ],
   "source": [
    "for model in results: \n",
    "    y_true = y_forecast.values\n",
    "    y_pred = model.predict(X_forecast_ohe.values)\n",
    "    regression_results(y_true, y_pred)"
   ]
  },
  {
   "cell_type": "code",
   "execution_count": null,
   "id": "d0cb877c",
   "metadata": {},
   "outputs": [],
   "source": []
  }
 ],
 "metadata": {
  "kernelspec": {
   "display_name": "Python 3 (ipykernel)",
   "language": "python",
   "name": "python3"
  },
  "language_info": {
   "codemirror_mode": {
    "name": "ipython",
    "version": 3
   },
   "file_extension": ".py",
   "mimetype": "text/x-python",
   "name": "python",
   "nbconvert_exporter": "python",
   "pygments_lexer": "ipython3",
   "version": "3.8.10"
  }
 },
 "nbformat": 4,
 "nbformat_minor": 5
}
